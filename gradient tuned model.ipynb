{
 "cells": [
  {
   "cell_type": "code",
   "execution_count": 3,
   "id": "199906f1-d26f-4914-84e9-8424cfe57c56",
   "metadata": {},
   "outputs": [],
   "source": [
    "import pandas as pd\n",
    "import numpy as np\n",
    "from sklearn.model_selection import train_test_split, cross_val_score\n",
    "from sklearn.preprocessing import OneHotEncoder, MinMaxScaler\n",
    "from sklearn.decomposition import PCA\n",
    "from sklearn.feature_extraction.text import TfidfVectorizer\n",
    "from sklearn.ensemble import RandomForestClassifier, GradientBoostingClassifier, AdaBoostClassifier\n",
    "from sklearn.metrics import accuracy_score, classification_report\n",
    "import joblib"
   ]
  },
  {
   "cell_type": "code",
   "execution_count": 4,
   "id": "8067b9f9-5c91-40e3-8621-040063291f04",
   "metadata": {},
   "outputs": [
    {
     "data": {
      "text/html": [
       "<div>\n",
       "<style scoped>\n",
       "    .dataframe tbody tr th:only-of-type {\n",
       "        vertical-align: middle;\n",
       "    }\n",
       "\n",
       "    .dataframe tbody tr th {\n",
       "        vertical-align: top;\n",
       "    }\n",
       "\n",
       "    .dataframe thead th {\n",
       "        text-align: right;\n",
       "    }\n",
       "</style>\n",
       "<table border=\"1\" class=\"dataframe\">\n",
       "  <thead>\n",
       "    <tr style=\"text-align: right;\">\n",
       "      <th></th>\n",
       "      <th>Order ID</th>\n",
       "      <th>Customer ID</th>\n",
       "      <th>Platform</th>\n",
       "      <th>Order Date &amp; Time</th>\n",
       "      <th>Delivery Time (Minutes)</th>\n",
       "      <th>Product Category</th>\n",
       "      <th>Order Value (INR)</th>\n",
       "      <th>Customer Feedback</th>\n",
       "      <th>Service Rating</th>\n",
       "      <th>Delivery Delay</th>\n",
       "      <th>Refund Requested</th>\n",
       "    </tr>\n",
       "  </thead>\n",
       "  <tbody>\n",
       "    <tr>\n",
       "      <th>0</th>\n",
       "      <td>ORD000001</td>\n",
       "      <td>CUST2824</td>\n",
       "      <td>JioMart</td>\n",
       "      <td>19:29.5</td>\n",
       "      <td>30</td>\n",
       "      <td>Fruits &amp; Vegetables</td>\n",
       "      <td>382</td>\n",
       "      <td>Fast delivery, great service!</td>\n",
       "      <td>5</td>\n",
       "      <td>No</td>\n",
       "      <td>No</td>\n",
       "    </tr>\n",
       "    <tr>\n",
       "      <th>1</th>\n",
       "      <td>ORD000002</td>\n",
       "      <td>CUST1409</td>\n",
       "      <td>Blinkit</td>\n",
       "      <td>54:29.5</td>\n",
       "      <td>16</td>\n",
       "      <td>Dairy</td>\n",
       "      <td>279</td>\n",
       "      <td>Quick and reliable!</td>\n",
       "      <td>5</td>\n",
       "      <td>No</td>\n",
       "      <td>No</td>\n",
       "    </tr>\n",
       "    <tr>\n",
       "      <th>2</th>\n",
       "      <td>ORD000003</td>\n",
       "      <td>CUST5506</td>\n",
       "      <td>JioMart</td>\n",
       "      <td>21:29.5</td>\n",
       "      <td>25</td>\n",
       "      <td>Beverages</td>\n",
       "      <td>599</td>\n",
       "      <td>Items missing from order.</td>\n",
       "      <td>2</td>\n",
       "      <td>No</td>\n",
       "      <td>Yes</td>\n",
       "    </tr>\n",
       "    <tr>\n",
       "      <th>3</th>\n",
       "      <td>ORD000004</td>\n",
       "      <td>CUST5012</td>\n",
       "      <td>JioMart</td>\n",
       "      <td>19:29.5</td>\n",
       "      <td>42</td>\n",
       "      <td>Beverages</td>\n",
       "      <td>946</td>\n",
       "      <td>Items missing from order.</td>\n",
       "      <td>2</td>\n",
       "      <td>Yes</td>\n",
       "      <td>Yes</td>\n",
       "    </tr>\n",
       "    <tr>\n",
       "      <th>4</th>\n",
       "      <td>ORD000005</td>\n",
       "      <td>CUST4657</td>\n",
       "      <td>Blinkit</td>\n",
       "      <td>49:29.5</td>\n",
       "      <td>30</td>\n",
       "      <td>Beverages</td>\n",
       "      <td>334</td>\n",
       "      <td>Fast delivery, great service!</td>\n",
       "      <td>5</td>\n",
       "      <td>No</td>\n",
       "      <td>No</td>\n",
       "    </tr>\n",
       "  </tbody>\n",
       "</table>\n",
       "</div>"
      ],
      "text/plain": [
       "    Order ID Customer ID Platform Order Date & Time  Delivery Time (Minutes)  \\\n",
       "0  ORD000001    CUST2824  JioMart           19:29.5                       30   \n",
       "1  ORD000002    CUST1409  Blinkit           54:29.5                       16   \n",
       "2  ORD000003    CUST5506  JioMart           21:29.5                       25   \n",
       "3  ORD000004    CUST5012  JioMart           19:29.5                       42   \n",
       "4  ORD000005    CUST4657  Blinkit           49:29.5                       30   \n",
       "\n",
       "      Product Category  Order Value (INR)              Customer Feedback  \\\n",
       "0  Fruits & Vegetables                382  Fast delivery, great service!   \n",
       "1                Dairy                279            Quick and reliable!   \n",
       "2            Beverages                599      Items missing from order.   \n",
       "3            Beverages                946      Items missing from order.   \n",
       "4            Beverages                334  Fast delivery, great service!   \n",
       "\n",
       "   Service Rating Delivery Delay Refund Requested  \n",
       "0               5             No               No  \n",
       "1               5             No               No  \n",
       "2               2             No              Yes  \n",
       "3               2            Yes              Yes  \n",
       "4               5             No               No  "
      ]
     },
     "execution_count": 4,
     "metadata": {},
     "output_type": "execute_result"
    }
   ],
   "source": [
    "df = pd.read_csv('Ecommerce_Delivery_Analytics_New.csv')\n",
    "df.head()"
   ]
  },
  {
   "cell_type": "code",
   "execution_count": 5,
   "id": "d2969fc3-ad4e-43f1-a1d9-b8ecabcf2bac",
   "metadata": {},
   "outputs": [],
   "source": [
    "# Remove duplicates\n",
    "df = df.drop_duplicates()"
   ]
  },
  {
   "cell_type": "code",
   "execution_count": 6,
   "id": "bc341f99-b859-481b-8f69-4de91b306d8e",
   "metadata": {},
   "outputs": [],
   "source": [
    "# Encode Categorical Features\n",
    "encoder = OneHotEncoder(sparse_output=False, handle_unknown='ignore')\n",
    "categorical_cols = ['Platform', 'Product Category']\n",
    "categorical_encoded = encoder.fit_transform(df[categorical_cols])\n",
    "categorical_feature_names = encoder.get_feature_names_out(categorical_cols)\n",
    "categorical_df = pd.DataFrame(categorical_encoded, columns=categorical_feature_names)"
   ]
  },
  {
   "cell_type": "code",
   "execution_count": 11,
   "id": "e97b63b6-67b6-45ca-b616-55a5e1f780e7",
   "metadata": {},
   "outputs": [],
   "source": [
    "# Scale Numerical Features\n",
    "scaler = MinMaxScaler()\n",
    "numerical_cols = ['Order Value (INR)', 'Delivery Time (Minutes)', 'Service Rating']\n",
    "numerical_scaled = scaler.fit_transform(df[numerical_cols])\n",
    "numerical_df = pd.DataFrame(numerical_scaled, columns=numerical_cols)"
   ]
  },
  {
   "cell_type": "code",
   "execution_count": 13,
   "id": "8b470538-c548-4e0f-bd1f-b064637d3581",
   "metadata": {},
   "outputs": [],
   "source": [
    "# Process Text Data using NLP (TF-IDF)\n",
    "tfidf = TfidfVectorizer(max_features=50)\n",
    "text_features = tfidf.fit_transform(df['Customer Feedback'].fillna(\"\"))\n",
    "tfidf_df = pd.DataFrame(text_features.toarray(), columns=tfidf.get_feature_names_out())"
   ]
  },
  {
   "cell_type": "code",
   "execution_count": 14,
   "id": "f515d2d0-14cc-4a1e-a574-20b995fa6b57",
   "metadata": {},
   "outputs": [],
   "source": [
    "# Combine Processed Data\n",
    "X = pd.concat([categorical_df, numerical_df, tfidf_df], axis=1)\n",
    "y_delay = df['Delivery Delay'].apply(lambda x: 1 if x == 'Yes' else 0)\n",
    "y_refund = df['Refund Requested'].apply(lambda x: 1 if x == 'Yes' else 0)"
   ]
  },
  {
   "cell_type": "code",
   "execution_count": 16,
   "id": "d3330ffe-0696-4ba4-b3e9-d5ad72f46153",
   "metadata": {},
   "outputs": [],
   "source": [
    "# Ensure proper train-test split\n",
    "X_train, X_test, y_delay_train, y_delay_test, y_refund_train, y_refund_test = train_test_split(\n",
    "    X, y_delay, y_refund, test_size=0.2, random_state=42, stratify=y_delay)"
   ]
  },
  {
   "cell_type": "code",
   "execution_count": 19,
   "id": "e47045ca-cea8-43df-be55-5b51a7869f17",
   "metadata": {},
   "outputs": [],
   "source": [
    "# Reduce dimensionality using PCA\n",
    "pca = PCA(n_components=0.95)  # Preserve 95% variance\n",
    "X_train = pca.fit_transform(X_train)\n",
    "X_test = pca.transform(X_test)\n"
   ]
  },
  {
   "cell_type": "code",
   "execution_count": 21,
   "id": "caa7949e-f822-4f70-af57-67b64a779a02",
   "metadata": {},
   "outputs": [],
   "source": [
    "# Train Models with Tuned Parameters\n",
    "models = {\n",
    "    \"RandomForest\": RandomForestClassifier(n_estimators=50, max_depth=5, random_state=42),\n",
    "    \"GradientBoosting\": GradientBoostingClassifier(n_estimators=50, learning_rate=0.05, max_depth=3, random_state=42),\n",
    "    \"AdaBoost\": AdaBoostClassifier(n_estimators=50, learning_rate=0.3, random_state=42)\n",
    "}\n",
    "\n",
    "trained_models_delay = {}\n",
    "trained_models_refund = {}\n",
    "from sklearn.ensemble import AdaBoostClassifier\n",
    "\n",
    "adaboost = AdaBoostClassifier()\n",
    "adaboost = AdaBoostClassifier(algorithm=\"SAMME.R\")\n"
   ]
  },
  {
   "cell_type": "code",
   "execution_count": 23,
   "id": "96cd8786-e410-4be0-8f9e-efdeb2f9d6b2",
   "metadata": {},
   "outputs": [
    {
     "name": "stdout",
     "output_type": "stream",
     "text": [
      "Training RandomForest for Delivery Delay Prediction...\n",
      "RandomForest Accuracy for Delivery Delay: 0.8672\n",
      "              precision    recall  f1-score   support\n",
      "\n",
      "           0       0.87      1.00      0.93     17266\n",
      "           1       1.00      0.03      0.06      2734\n",
      "\n",
      "    accuracy                           0.87     20000\n",
      "   macro avg       0.93      0.51      0.49     20000\n",
      "weighted avg       0.88      0.87      0.81     20000\n",
      "\n",
      "Training RandomForest for Refund Request Prediction...\n",
      "RandomForest Accuracy for Refund Request: 1.0\n",
      "              precision    recall  f1-score   support\n",
      "\n",
      "           0       1.00      1.00      1.00     10988\n",
      "           1       1.00      1.00      1.00      9012\n",
      "\n",
      "    accuracy                           1.00     20000\n",
      "   macro avg       1.00      1.00      1.00     20000\n",
      "weighted avg       1.00      1.00      1.00     20000\n",
      "\n",
      "RandomForest Cross-validation accuracy for Delivery Delay: 0.8667374999999999\n",
      "RandomForest Cross-validation accuracy for Refund Request: 1.0\n",
      "Training GradientBoosting for Delivery Delay Prediction...\n",
      "GradientBoosting Accuracy for Delivery Delay: 0.8673\n",
      "              precision    recall  f1-score   support\n",
      "\n",
      "           0       0.87      1.00      0.93     17266\n",
      "           1       1.00      0.03      0.06      2734\n",
      "\n",
      "    accuracy                           0.87     20000\n",
      "   macro avg       0.93      0.51      0.49     20000\n",
      "weighted avg       0.88      0.87      0.81     20000\n",
      "\n",
      "Training GradientBoosting for Refund Request Prediction...\n",
      "GradientBoosting Accuracy for Refund Request: 1.0\n",
      "              precision    recall  f1-score   support\n",
      "\n",
      "           0       1.00      1.00      1.00     10988\n",
      "           1       1.00      1.00      1.00      9012\n",
      "\n",
      "    accuracy                           1.00     20000\n",
      "   macro avg       1.00      1.00      1.00     20000\n",
      "weighted avg       1.00      1.00      1.00     20000\n",
      "\n",
      "GradientBoosting Cross-validation accuracy for Delivery Delay: 0.8675499999999999\n",
      "GradientBoosting Cross-validation accuracy for Refund Request: 1.0\n",
      "Training AdaBoost for Delivery Delay Prediction...\n"
     ]
    },
    {
     "name": "stderr",
     "output_type": "stream",
     "text": [
      "D:\\Users\\praga\\anaconda3\\Lib\\site-packages\\sklearn\\ensemble\\_weight_boosting.py:527: FutureWarning: The SAMME.R algorithm (the default) is deprecated and will be removed in 1.6. Use the SAMME algorithm to circumvent this warning.\n",
      "  warnings.warn(\n"
     ]
    },
    {
     "name": "stdout",
     "output_type": "stream",
     "text": [
      "AdaBoost Accuracy for Delivery Delay: 0.86545\n",
      "              precision    recall  f1-score   support\n",
      "\n",
      "           0       0.87      1.00      0.93     17266\n",
      "           1       1.00      0.02      0.03      2734\n",
      "\n",
      "    accuracy                           0.87     20000\n",
      "   macro avg       0.93      0.51      0.48     20000\n",
      "weighted avg       0.88      0.87      0.81     20000\n",
      "\n",
      "Training AdaBoost for Refund Request Prediction...\n"
     ]
    },
    {
     "name": "stderr",
     "output_type": "stream",
     "text": [
      "D:\\Users\\praga\\anaconda3\\Lib\\site-packages\\sklearn\\ensemble\\_weight_boosting.py:527: FutureWarning: The SAMME.R algorithm (the default) is deprecated and will be removed in 1.6. Use the SAMME algorithm to circumvent this warning.\n",
      "  warnings.warn(\n"
     ]
    },
    {
     "name": "stdout",
     "output_type": "stream",
     "text": [
      "AdaBoost Accuracy for Refund Request: 1.0\n",
      "              precision    recall  f1-score   support\n",
      "\n",
      "           0       1.00      1.00      1.00     10988\n",
      "           1       1.00      1.00      1.00      9012\n",
      "\n",
      "    accuracy                           1.00     20000\n",
      "   macro avg       1.00      1.00      1.00     20000\n",
      "weighted avg       1.00      1.00      1.00     20000\n",
      "\n"
     ]
    },
    {
     "name": "stderr",
     "output_type": "stream",
     "text": [
      "D:\\Users\\praga\\anaconda3\\Lib\\site-packages\\sklearn\\ensemble\\_weight_boosting.py:527: FutureWarning: The SAMME.R algorithm (the default) is deprecated and will be removed in 1.6. Use the SAMME algorithm to circumvent this warning.\n",
      "  warnings.warn(\n",
      "D:\\Users\\praga\\anaconda3\\Lib\\site-packages\\sklearn\\ensemble\\_weight_boosting.py:527: FutureWarning: The SAMME.R algorithm (the default) is deprecated and will be removed in 1.6. Use the SAMME algorithm to circumvent this warning.\n",
      "  warnings.warn(\n",
      "D:\\Users\\praga\\anaconda3\\Lib\\site-packages\\sklearn\\ensemble\\_weight_boosting.py:527: FutureWarning: The SAMME.R algorithm (the default) is deprecated and will be removed in 1.6. Use the SAMME algorithm to circumvent this warning.\n",
      "  warnings.warn(\n",
      "D:\\Users\\praga\\anaconda3\\Lib\\site-packages\\sklearn\\ensemble\\_weight_boosting.py:527: FutureWarning: The SAMME.R algorithm (the default) is deprecated and will be removed in 1.6. Use the SAMME algorithm to circumvent this warning.\n",
      "  warnings.warn(\n",
      "D:\\Users\\praga\\anaconda3\\Lib\\site-packages\\sklearn\\ensemble\\_weight_boosting.py:527: FutureWarning: The SAMME.R algorithm (the default) is deprecated and will be removed in 1.6. Use the SAMME algorithm to circumvent this warning.\n",
      "  warnings.warn(\n"
     ]
    },
    {
     "name": "stdout",
     "output_type": "stream",
     "text": [
      "AdaBoost Cross-validation accuracy for Delivery Delay: 0.8648000000000001\n"
     ]
    },
    {
     "name": "stderr",
     "output_type": "stream",
     "text": [
      "D:\\Users\\praga\\anaconda3\\Lib\\site-packages\\sklearn\\ensemble\\_weight_boosting.py:527: FutureWarning: The SAMME.R algorithm (the default) is deprecated and will be removed in 1.6. Use the SAMME algorithm to circumvent this warning.\n",
      "  warnings.warn(\n",
      "D:\\Users\\praga\\anaconda3\\Lib\\site-packages\\sklearn\\ensemble\\_weight_boosting.py:527: FutureWarning: The SAMME.R algorithm (the default) is deprecated and will be removed in 1.6. Use the SAMME algorithm to circumvent this warning.\n",
      "  warnings.warn(\n",
      "D:\\Users\\praga\\anaconda3\\Lib\\site-packages\\sklearn\\ensemble\\_weight_boosting.py:527: FutureWarning: The SAMME.R algorithm (the default) is deprecated and will be removed in 1.6. Use the SAMME algorithm to circumvent this warning.\n",
      "  warnings.warn(\n",
      "D:\\Users\\praga\\anaconda3\\Lib\\site-packages\\sklearn\\ensemble\\_weight_boosting.py:527: FutureWarning: The SAMME.R algorithm (the default) is deprecated and will be removed in 1.6. Use the SAMME algorithm to circumvent this warning.\n",
      "  warnings.warn(\n",
      "D:\\Users\\praga\\anaconda3\\Lib\\site-packages\\sklearn\\ensemble\\_weight_boosting.py:527: FutureWarning: The SAMME.R algorithm (the default) is deprecated and will be removed in 1.6. Use the SAMME algorithm to circumvent this warning.\n",
      "  warnings.warn(\n"
     ]
    },
    {
     "name": "stdout",
     "output_type": "stream",
     "text": [
      "AdaBoost Cross-validation accuracy for Refund Request: 1.0\n"
     ]
    }
   ],
   "source": [
    "for name, model in models.items():\n",
    "    print(f\"Training {name} for Delivery Delay Prediction...\")\n",
    "    model.fit(X_train, y_delay_train)\n",
    "    y_delay_pred = model.predict(X_test)\n",
    "    print(f\"{name} Accuracy for Delivery Delay:\", accuracy_score(y_delay_test, y_delay_pred))\n",
    "    print(classification_report(y_delay_test, y_delay_pred))\n",
    "    trained_models_delay[name] = model\n",
    "    \n",
    "    print(f\"Training {name} for Refund Request Prediction...\")\n",
    "    model.fit(X_train, y_refund_train)\n",
    "    y_refund_pred = model.predict(X_test)\n",
    "    print(f\"{name} Accuracy for Refund Request:\", accuracy_score(y_refund_test, y_refund_pred))\n",
    "    print(classification_report(y_refund_test, y_refund_pred))\n",
    "    trained_models_refund[name] = model\n",
    "\n",
    "    # Cross-validation\n",
    "    cv_scores = cross_val_score(model, X_train, y_delay_train, cv=5)\n",
    "    print(f\"{name} Cross-validation accuracy for Delivery Delay: {cv_scores.mean()}\")\n",
    "    \n",
    "    cv_scores = cross_val_score(model, X_train, y_refund_train, cv=5)\n",
    "    print(f\"{name} Cross-validation accuracy for Refund Request: {cv_scores.mean()}\")\n"
   ]
  },
  {
   "cell_type": "markdown",
   "id": "7f99ff3c-8f46-4013-a1fe-b892a66dfe7c",
   "metadata": {},
   "source": [
    "## After Tuning"
   ]
  },
  {
   "cell_type": "code",
   "execution_count": 25,
   "id": "59964c45-7d0d-49df-b79e-ab2c6c66c13e",
   "metadata": {},
   "outputs": [],
   "source": [
    "param_dist = {\n",
    "    'n_estimators': [100, 200, 300],\n",
    "    'learning_rate': [0.01, 0.1, 0.2, 0.3],\n",
    "    'max_depth': [3, 4, 5, 6, 7],\n",
    "    'min_child_weight': [1, 2, 3],\n",
    "    'subsample': [0.6, 0.8, 1.0],\n",
    "    'colsample_bytree': [0.6, 0.8, 1.0],\n",
    "    'gamma': [0, 0.1, 0.2, 0.3]\n",
    "}"
   ]
  },
  {
   "cell_type": "code",
   "execution_count": 34,
   "id": "09b5844d-bd5e-4967-a12f-2d588536c741",
   "metadata": {},
   "outputs": [],
   "source": [
    "from sklearn.model_selection import RandomizedSearchCV \n",
    "params_abc = {'n_estimators': [int(x) for x in np.linspace(start = 1, stop = 50, num = 15)],\n",
    "          'learning_rate': [(0.97 + x / 100) for x in range(0, 8)],\n",
    "          }   \n",
    "abc_random = RandomizedSearchCV(random_state=49,estimator=AdaBoostClassifier,param_distributions = params_abc,n_iter =50,cv=5,n_jobs=-1)\n"
   ]
  },
  {
   "cell_type": "code",
   "execution_count": 36,
   "id": "97d99e3f-0b07-4fd7-af07-d26da808ac3f",
   "metadata": {},
   "outputs": [
    {
     "data": {
      "text/plain": [
       "{'n_estimators': [1, 4, 8, 11, 15, 18, 22, 25, 29, 32, 36, 39, 43, 46, 50],\n",
       " 'learning_rate': [0.97, 0.98, 0.99, 1.0, 1.01, 1.02, 1.03, 1.04]}"
      ]
     },
     "execution_count": 36,
     "metadata": {},
     "output_type": "execute_result"
    }
   ],
   "source": [
    "params_abc"
   ]
  },
  {
   "cell_type": "code",
   "execution_count": 42,
   "id": "28dfdfc1-342f-420c-b178-533cb42e7a19",
   "metadata": {},
   "outputs": [
    {
     "name": "stdout",
     "output_type": "stream",
     "text": [
      "Accuracy of GradientBoosting(tuned)= 0.8798\n"
     ]
    }
   ],
   "source": [
    "print('Accuracy of GradientBoosting(tuned)=', accuracy_score(y_delay_test, pred_grad_tuned))\n"
   ]
  },
  {
   "cell_type": "code",
   "execution_count": 44,
   "id": "4ae56a79-9b19-43c5-94b2-e8f36076aa11",
   "metadata": {},
   "outputs": [
    {
     "name": "stdout",
     "output_type": "stream",
     "text": [
      "Tuned Gradient Boosting model saved successfully!\n"
     ]
    }
   ],
   "source": [
    "import joblib\n",
    "\n",
    "# Save the tuned model\n",
    "joblib.dump(grad_tuned, 'gradient_boosting_tuned.pkl')\n",
    "print(\"Tuned Gradient Boosting model saved successfully!\")\n"
   ]
  },
  {
   "cell_type": "code",
   "execution_count": 46,
   "id": "e9138bb1-aa88-41c0-8e87-df610c026498",
   "metadata": {},
   "outputs": [
    {
     "name": "stdout",
     "output_type": "stream",
     "text": [
      "Tuned Gradient Boosting model loaded successfully!\n",
      "Accuracy of Loaded Model: 0.8798\n"
     ]
    }
   ],
   "source": [
    "# Load the model\n",
    "grad_tuned_loaded = joblib.load('gradient_boosting_tuned.pkl')\n",
    "print(\"Tuned Gradient Boosting model loaded successfully!\")\n",
    "\n",
    "# Example usage (predict on test data)\n",
    "predictions = grad_tuned_loaded.predict(X_test)\n",
    "print('Accuracy of Loaded Model:', accuracy_score(y_delay_test, predictions))\n"
   ]
  },
  {
   "cell_type": "code",
   "execution_count": null,
   "id": "11635cc0-b45c-4b79-bc89-a7148a6fbd87",
   "metadata": {},
   "outputs": [],
   "source": []
  }
 ],
 "metadata": {
  "kernelspec": {
   "display_name": "Python [conda env:anaconda3]",
   "language": "python",
   "name": "conda-env-anaconda3-py"
  },
  "language_info": {
   "codemirror_mode": {
    "name": "ipython",
    "version": 3
   },
   "file_extension": ".py",
   "mimetype": "text/x-python",
   "name": "python",
   "nbconvert_exporter": "python",
   "pygments_lexer": "ipython3",
   "version": "3.11.7"
  }
 },
 "nbformat": 4,
 "nbformat_minor": 5
}
